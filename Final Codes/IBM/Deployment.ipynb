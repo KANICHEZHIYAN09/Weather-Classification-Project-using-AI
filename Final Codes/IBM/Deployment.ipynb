{
  "cells": [
    {
      "cell_type": "code",
      "execution_count": null,
      "metadata": {
        "id": "Eu85pIdATTn6"
      },
      "outputs": [],
      "source": [
        "!pip install -q kaggle"
      ]
    },
    {
      "cell_type": "code",
      "execution_count": null,
      "metadata": {
        "id": "0QABJaBcTeYq"
      },
      "outputs": [],
      "source": [
        "!mkdir ~/.kaggle"
      ]
    },
    {
      "cell_type": "code",
      "execution_count": null,
      "metadata": {
        "colab": {
          "base_uri": "https://localhost:8080/"
        },
        "id": "cCWmKDktTecg",
        "outputId": "f4390b3d-6349-4067-dd8b-ffd9bd73aaca"
      },
      "outputs": [
        {
          "name": "stdout",
          "output_type": "stream",
          "text": [
            "cp: cannot stat 'kaggle.json': No such file or directory\n"
          ]
        }
      ],
      "source": [
        "!cp kaggle.json ~/.kaggle"
      ]
    },
    {
      "cell_type": "code",
      "execution_count": null,
      "metadata": {
        "colab": {
          "base_uri": "https://localhost:8080/"
        },
        "id": "hjNAobuTT4Fm",
        "outputId": "2f0e6e2d-e937-4387-d746-1d74005f95cc"
      },
      "outputs": [
        {
          "name": "stdout",
          "output_type": "stream",
          "text": [
            "Traceback (most recent call last):\n",
            "  File \"/usr/local/bin/kaggle\", line 5, in <module>\n",
            "    from kaggle.cli import main\n",
            "  File \"/usr/local/lib/python3.10/dist-packages/kaggle/__init__.py\", line 23, in <module>\n",
            "    api.authenticate()\n",
            "  File \"/usr/local/lib/python3.10/dist-packages/kaggle/api/kaggle_api_extended.py\", line 164, in authenticate\n",
            "    raise IOError('Could not find {}. Make sure it\\'s located in'\n",
            "OSError: Could not find kaggle.json. Make sure it's located in /root/.kaggle. Or use the environment method.\n"
          ]
        }
      ],
      "source": [
        "!kaggle datasets download -d vijaygiitk/multiclass-weather-dataset"
      ]
    },
    {
      "cell_type": "code",
      "execution_count": null,
      "metadata": {
        "colab": {
          "base_uri": "https://localhost:8080/"
        },
        "id": "JNxSBaHeT4It",
        "outputId": "05c71acb-3908-40cf-eacb-9e1f126108ce"
      },
      "outputs": [
        {
          "name": "stdout",
          "output_type": "stream",
          "text": [
            "unzip:  cannot find or open /content/multiclass-weather-dataset.zip, /content/multiclass-weather-dataset.zip.zip or /content/multiclass-weather-dataset.zip.ZIP.\n"
          ]
        }
      ],
      "source": [
        "!unzip /content/multiclass-weather-dataset.zip"
      ]
    },
    {
      "cell_type": "code",
      "execution_count": null,
      "metadata": {
        "id": "unLUuD-XU_iA"
      },
      "outputs": [],
      "source": [
        "from tensorflow.keras.applications.vgg19 import VGG19, preprocess_input\n",
        "from tensorflow.keras.layers import Flatten, Dense\n",
        "from tensorflow.keras.models import Model\n",
        "from tensorflow.keras.preprocessing.image import ImageDataGenerator\n",
        "from PIL import ImageFile\n",
        "from tensorflow.keras.models import load_model\n",
        "from tensorflow.keras.preprocessing import image\n",
        "import numpy as np\n",
        "import matplotlib as plt"
      ]
    },
    {
      "cell_type": "code",
      "execution_count": null,
      "metadata": {
        "colab": {
          "base_uri": "https://localhost:8080/"
        },
        "id": "oHF2apBDYnKR",
        "outputId": "77950772-efc2-4b89-a41f-15a159eb6fe0"
      },
      "outputs": [
        {
          "name": "stdout",
          "output_type": "stream",
          "text": [
            "Drive already mounted at /content/drive; to attempt to forcibly remount, call drive.mount(\"/content/drive\", force_remount=True).\n"
          ]
        }
      ],
      "source": [
        "from google.colab import drive\n",
        "drive.mount('/content/drive')"
      ]
    },
    {
      "cell_type": "code",
      "execution_count": null,
      "metadata": {
        "id": "FbY4pCjmZHo6"
      },
      "outputs": [],
      "source": [
        "image_size = (224, 224)\n",
        "trainpath=r'/content/drive/MyDrive/dataset/Train'\n",
        "testpath=r'/content/drive/MyDrive/dataset/Test'"
      ]
    },
    {
      "cell_type": "code",
      "execution_count": null,
      "metadata": {
        "id": "KIUDOpXMZHq_"
      },
      "outputs": [],
      "source": [
        "from tensorflow.keras.preprocessing.image import ImageDataGenerator\n",
        "train_datagen = ImageDataGenerator(rescale=1./255,\n",
        "shear_range=0.2,\n",
        "zoom_range=[.99,1.01],\n",
        "brightness_range=[0.8,1.2],\n",
        "data_format=\"channels_last\",\n",
        "fill_mode=\"constant\",\n",
        "horizontal_flip=True)\n",
        "test_datagen=ImageDataGenerator(rescale=1./255)"
      ]
    },
    {
      "cell_type": "code",
      "execution_count": null,
      "metadata": {
        "colab": {
          "base_uri": "https://localhost:8080/"
        },
        "id": "n12IUoeUYnNE",
        "outputId": "1c379ae3-909f-407b-8719-97798ab839ac"
      },
      "outputs": [
        {
          "name": "stdout",
          "output_type": "stream",
          "text": [
            "Found 1500 images belonging to 5 classes.\n",
            "Found 30 images belonging to 1 classes.\n"
          ]
        }
      ],
      "source": [
        "training_set=train_datagen.flow_from_directory('/content/drive/MyDrive/dataset/Train',\n",
        "                                                                target_size=(224,224),\n",
        "                                                                batch_size=64,\n",
        "                                                                class_mode='categorical')\n",
        "test_set=test_datagen.flow_from_directory('/content/drive/MyDrive/dataset/Test',\n",
        "                                                                target_size=(224,224),\n",
        "                                                                batch_size=64,\n",
        "                                                                class_mode='categorical')"
      ]
    },
    {
      "cell_type": "code",
      "execution_count": null,
      "metadata": {
        "colab": {
          "base_uri": "https://localhost:8080/"
        },
        "id": "9agiFPFbZv3L",
        "outputId": "ac81a08a-3f18-4133-fe94-8bf4e789dd25"
      },
      "outputs": [
        {
          "name": "stdout",
          "output_type": "stream",
          "text": [
            "Downloading data from https://storage.googleapis.com/tensorflow/keras-applications/vgg19/vgg19_weights_tf_dim_ordering_tf_kernels_notop.h5\n",
            "80134624/80134624 [==============================] - 0s 0us/step\n"
          ]
        }
      ],
      "source": [
        "vgg_model = VGG19(input_shape=image_size + (3,), weights='imagenet', include_top=False)"
      ]
    },
    {
      "cell_type": "code",
      "execution_count": null,
      "metadata": {
        "id": "Zs4rdaB3Zv5s"
      },
      "outputs": [],
      "source": [
        "for layer in vgg_model.layers:\n",
        "  layer.trainable = False"
      ]
    },
    {
      "cell_type": "code",
      "execution_count": null,
      "metadata": {
        "id": "1LERBO06Zv8Y"
      },
      "outputs": [],
      "source": [
        "x = Flatten()(vgg_model.output)"
      ]
    },
    {
      "cell_type": "code",
      "execution_count": null,
      "metadata": {
        "id": "bhQPX954Z8p2"
      },
      "outputs": [],
      "source": [
        "prediction = Dense(5,activation='softmax' )(x)"
      ]
    },
    {
      "cell_type": "code",
      "execution_count": null,
      "metadata": {
        "id": "aCb2c3nPZ8vr"
      },
      "outputs": [],
      "source": [
        "model = Model(inputs=vgg_model.input, outputs = prediction)"
      ]
    },
    {
      "cell_type": "code",
      "execution_count": null,
      "metadata": {
        "colab": {
          "base_uri": "https://localhost:8080/"
        },
        "id": "tv9LcZNPZ8yf",
        "outputId": "59310694-1887-4a45-9db1-548c33cc1d38"
      },
      "outputs": [
        {
          "name": "stdout",
          "output_type": "stream",
          "text": [
            "Model: \"model\"\n",
            "_________________________________________________________________\n",
            " Layer (type)                Output Shape              Param #   \n",
            "=================================================================\n",
            " input_1 (InputLayer)        [(None, 224, 224, 3)]     0         \n",
            "                                                                 \n",
            " block1_conv1 (Conv2D)       (None, 224, 224, 64)      1792      \n",
            "                                                                 \n",
            " block1_conv2 (Conv2D)       (None, 224, 224, 64)      36928     \n",
            "                                                                 \n",
            " block1_pool (MaxPooling2D)  (None, 112, 112, 64)      0         \n",
            "                                                                 \n",
            " block2_conv1 (Conv2D)       (None, 112, 112, 128)     73856     \n",
            "                                                                 \n",
            " block2_conv2 (Conv2D)       (None, 112, 112, 128)     147584    \n",
            "                                                                 \n",
            " block2_pool (MaxPooling2D)  (None, 56, 56, 128)       0         \n",
            "                                                                 \n",
            " block3_conv1 (Conv2D)       (None, 56, 56, 256)       295168    \n",
            "                                                                 \n",
            " block3_conv2 (Conv2D)       (None, 56, 56, 256)       590080    \n",
            "                                                                 \n",
            " block3_conv3 (Conv2D)       (None, 56, 56, 256)       590080    \n",
            "                                                                 \n",
            " block3_conv4 (Conv2D)       (None, 56, 56, 256)       590080    \n",
            "                                                                 \n",
            " block3_pool (MaxPooling2D)  (None, 28, 28, 256)       0         \n",
            "                                                                 \n",
            " block4_conv1 (Conv2D)       (None, 28, 28, 512)       1180160   \n",
            "                                                                 \n",
            " block4_conv2 (Conv2D)       (None, 28, 28, 512)       2359808   \n",
            "                                                                 \n",
            " block4_conv3 (Conv2D)       (None, 28, 28, 512)       2359808   \n",
            "                                                                 \n",
            " block4_conv4 (Conv2D)       (None, 28, 28, 512)       2359808   \n",
            "                                                                 \n",
            " block4_pool (MaxPooling2D)  (None, 14, 14, 512)       0         \n",
            "                                                                 \n",
            " block5_conv1 (Conv2D)       (None, 14, 14, 512)       2359808   \n",
            "                                                                 \n",
            " block5_conv2 (Conv2D)       (None, 14, 14, 512)       2359808   \n",
            "                                                                 \n",
            " block5_conv3 (Conv2D)       (None, 14, 14, 512)       2359808   \n",
            "                                                                 \n",
            " block5_conv4 (Conv2D)       (None, 14, 14, 512)       2359808   \n",
            "                                                                 \n",
            " block5_pool (MaxPooling2D)  (None, 7, 7, 512)         0         \n",
            "                                                                 \n",
            " flatten (Flatten)           (None, 25088)             0         \n",
            "                                                                 \n",
            " dense (Dense)               (None, 5)                 125445    \n",
            "                                                                 \n",
            "=================================================================\n",
            "Total params: 20,149,829\n",
            "Trainable params: 125,445\n",
            "Non-trainable params: 20,024,384\n",
            "_________________________________________________________________\n"
          ]
        }
      ],
      "source": [
        "model.summary()"
      ]
    },
    {
      "cell_type": "code",
      "execution_count": null,
      "metadata": {
        "id": "lLh2QfyiaI2d"
      },
      "outputs": [],
      "source": [
        "model.compile(\n",
        " loss='categorical_crossentropy',\n",
        " optimizer='adam',\n",
        " metrics=['accuracy']\n",
        ")"
      ]
    },
    {
      "cell_type": "code",
      "execution_count": null,
      "metadata": {
        "colab": {
          "base_uri": "https://localhost:8080/"
        },
        "id": "iO3RERxhaI7d",
        "outputId": "096ec318-80a9-45ea-e08e-d448f56a173c"
      },
      "outputs": [
        {
          "name": "stdout",
          "output_type": "stream",
          "text": [
            "Epoch 1/10\n",
            "24/24 [==============================] - 1137s 47s/step - loss: 1.6159 - accuracy: 0.4640 - val_loss: 15.0072 - val_accuracy: 0.1333\n",
            "Epoch 2/10\n",
            "24/24 [==============================] - 1126s 47s/step - loss: 0.5300 - accuracy: 0.8160 - val_loss: 17.2101 - val_accuracy: 0.1333\n",
            "Epoch 3/10\n",
            "24/24 [==============================] - 1127s 47s/step - loss: 0.3703 - accuracy: 0.8833 - val_loss: 18.2012 - val_accuracy: 0.1333\n",
            "Epoch 4/10\n",
            "24/24 [==============================] - 1127s 47s/step - loss: 0.3077 - accuracy: 0.9127 - val_loss: 19.8516 - val_accuracy: 0.0667\n",
            "Epoch 5/10\n",
            "24/24 [==============================] - 1103s 46s/step - loss: 0.2661 - accuracy: 0.9287 - val_loss: 20.1823 - val_accuracy: 0.1333\n",
            "Epoch 6/10\n",
            "24/24 [==============================] - 1106s 46s/step - loss: 0.2136 - accuracy: 0.9453 - val_loss: 21.1694 - val_accuracy: 0.1000\n",
            "Epoch 7/10\n",
            "24/24 [==============================] - 1123s 47s/step - loss: 0.2029 - accuracy: 0.9467 - val_loss: 22.0247 - val_accuracy: 0.1333\n",
            "Epoch 8/10\n",
            "24/24 [==============================] - 1110s 46s/step - loss: 0.1741 - accuracy: 0.9573 - val_loss: 22.5942 - val_accuracy: 0.2000\n",
            "Epoch 9/10\n",
            "24/24 [==============================] - 1074s 45s/step - loss: 0.1766 - accuracy: 0.9460 - val_loss: 23.1973 - val_accuracy: 0.1667\n",
            "Epoch 10/10\n",
            "24/24 [==============================] - 1096s 47s/step - loss: 0.1473 - accuracy: 0.9640 - val_loss: 24.3179 - val_accuracy: 0.1333\n"
          ]
        }
      ],
      "source": [
        "r = model.fit(training_set,epochs=10,steps_per_epoch=len(training_set),validation_data=test_set,\n",
        "                          validation_steps=len(test_set))"
      ]
    },
    {
      "cell_type": "code",
      "execution_count": null,
      "metadata": {
        "colab": {
          "base_uri": "https://localhost:8080/"
        },
        "id": "Xa5Ei9FRaI95",
        "outputId": "2ea27f1d-bb3e-4015-f6d0-30eac49a7492"
      },
      "outputs": [
        {
          "name": "stdout",
          "output_type": "stream",
          "text": [
            "ibm_epoch.h5\n"
          ]
        }
      ],
      "source": [
        "model.save('ibm_epoch.h5')\n",
        "!tar zcvf ibm_weather-classification.tgz ibm_epoch.h5"
      ]
    },
    {
      "cell_type": "code",
      "execution_count": null,
      "metadata": {
        "colab": {
          "base_uri": "https://localhost:8080/"
        },
        "id": "7JYbjIElaI_4",
        "outputId": "b0ef14a5-dc31-4d19-c5f7-b5df2d4207da"
      },
      "outputs": [
        {
          "name": "stdout",
          "output_type": "stream",
          "text": [
            "Looking in indexes: https://pypi.org/simple, https://us-python.pkg.dev/colab-wheels/public/simple/\n",
            "Collecting watson-machine-learning-client\n",
            "  Downloading watson_machine_learning_client-1.0.391-py3-none-any.whl (538 kB)\n",
            "\u001b[2K     \u001b[90m━━━━━━━━━━━━━━━━━━━━━━━━━━━━━━━━━━━━━━\u001b[0m \u001b[32m538.9/538.9 kB\u001b[0m \u001b[31m20.1 MB/s\u001b[0m eta \u001b[36m0:00:00\u001b[0m\n",
            "\u001b[?25hRequirement already satisfied: requests in /usr/local/lib/python3.10/dist-packages (from watson-machine-learning-client) (2.30.0)\n",
            "Requirement already satisfied: urllib3 in /usr/local/lib/python3.10/dist-packages (from watson-machine-learning-client) (1.26.15)\n",
            "Requirement already satisfied: pandas in /usr/local/lib/python3.10/dist-packages (from watson-machine-learning-client) (1.5.3)\n",
            "Requirement already satisfied: certifi in /usr/local/lib/python3.10/dist-packages (from watson-machine-learning-client) (2022.12.7)\n",
            "Requirement already satisfied: tqdm in /usr/local/lib/python3.10/dist-packages (from watson-machine-learning-client) (4.65.0)\n",
            "Requirement already satisfied: lomond in /usr/local/lib/python3.10/dist-packages (from watson-machine-learning-client) (0.3.3)\n",
            "Requirement already satisfied: tabulate in /usr/local/lib/python3.10/dist-packages (from watson-machine-learning-client) (0.8.10)\n",
            "Requirement already satisfied: ibm-cos-sdk in /usr/local/lib/python3.10/dist-packages (from watson-machine-learning-client) (2.13.0)\n",
            "Collecting boto3 (from watson-machine-learning-client)\n",
            "  Downloading boto3-1.26.137-py3-none-any.whl (135 kB)\n",
            "\u001b[2K     \u001b[90m━━━━━━━━━━━━━━━━━━━━━━━━━━━━━━━━━━━━━━\u001b[0m \u001b[32m135.6/135.6 kB\u001b[0m \u001b[31m16.8 MB/s\u001b[0m eta \u001b[36m0:00:00\u001b[0m\n",
            "\u001b[?25hCollecting botocore<1.30.0,>=1.29.137 (from boto3->watson-machine-learning-client)\n",
            "  Downloading botocore-1.29.137-py3-none-any.whl (10.8 MB)\n",
            "\u001b[2K     \u001b[90m━━━━━━━━━━━━━━━━━━━━━━━━━━━━━━━━━━━━━━━━\u001b[0m \u001b[32m10.8/10.8 MB\u001b[0m \u001b[31m61.8 MB/s\u001b[0m eta \u001b[36m0:00:00\u001b[0m\n",
            "\u001b[?25hRequirement already satisfied: jmespath<2.0.0,>=0.7.1 in /usr/local/lib/python3.10/dist-packages (from boto3->watson-machine-learning-client) (1.0.1)\n",
            "Collecting s3transfer<0.7.0,>=0.6.0 (from boto3->watson-machine-learning-client)\n",
            "  Downloading s3transfer-0.6.1-py3-none-any.whl (79 kB)\n",
            "\u001b[2K     \u001b[90m━━━━━━━━━━━━━━━━━━━━━━━━━━━━━━━━━━━━━━━━\u001b[0m \u001b[32m79.8/79.8 kB\u001b[0m \u001b[31m10.2 MB/s\u001b[0m eta \u001b[36m0:00:00\u001b[0m\n",
            "\u001b[?25hRequirement already satisfied: ibm-cos-sdk-core==2.13.0 in /usr/local/lib/python3.10/dist-packages (from ibm-cos-sdk->watson-machine-learning-client) (2.13.0)\n",
            "Requirement already satisfied: ibm-cos-sdk-s3transfer==2.13.0 in /usr/local/lib/python3.10/dist-packages (from ibm-cos-sdk->watson-machine-learning-client) (2.13.0)\n",
            "Requirement already satisfied: python-dateutil<3.0.0,>=2.8.2 in /usr/local/lib/python3.10/dist-packages (from ibm-cos-sdk-core==2.13.0->ibm-cos-sdk->watson-machine-learning-client) (2.8.2)\n",
            "Requirement already satisfied: charset-normalizer<4,>=2 in /usr/local/lib/python3.10/dist-packages (from requests->watson-machine-learning-client) (2.0.12)\n",
            "Requirement already satisfied: idna<4,>=2.5 in /usr/local/lib/python3.10/dist-packages (from requests->watson-machine-learning-client) (3.4)\n",
            "Requirement already satisfied: six>=1.10.0 in /usr/local/lib/python3.10/dist-packages (from lomond->watson-machine-learning-client) (1.16.0)\n",
            "Requirement already satisfied: pytz>=2020.1 in /usr/local/lib/python3.10/dist-packages (from pandas->watson-machine-learning-client) (2022.7.1)\n",
            "Requirement already satisfied: numpy>=1.21.0 in /usr/local/lib/python3.10/dist-packages (from pandas->watson-machine-learning-client) (1.22.4)\n",
            "Installing collected packages: botocore, s3transfer, boto3, watson-machine-learning-client\n",
            "Successfully installed boto3-1.26.137 botocore-1.29.137 s3transfer-0.6.1 watson-machine-learning-client-1.0.391\n"
          ]
        }
      ],
      "source": [
        "!pip install watson-machine-learning-client"
      ]
    },
    {
      "cell_type": "code",
      "execution_count": null,
      "metadata": {
        "colab": {
          "base_uri": "https://localhost:8080/",
          "height": 1000
        },
        "id": "zF0wII9GcJvC",
        "outputId": "7675727c-c27b-44a1-f667-375791e74a7f"
      },
      "outputs": [
        {
          "name": "stdout",
          "output_type": "stream",
          "text": [
            "Looking in indexes: https://pypi.org/simple, https://us-python.pkg.dev/colab-wheels/public/simple/\n",
            "Collecting ibm_watson_machine_learning\n",
            "  Downloading ibm_watson_machine_learning-1.0.302-py3-none-any.whl (1.7 MB)\n",
            "\u001b[2K     \u001b[90m━━━━━━━━━━━━━━━━━━━━━━━━━━━━━━━━━━━━━━━━\u001b[0m \u001b[32m1.7/1.7 MB\u001b[0m \u001b[31m44.5 MB/s\u001b[0m eta \u001b[36m0:00:00\u001b[0m\n",
            "\u001b[?25hRequirement already satisfied: requests in /usr/local/lib/python3.10/dist-packages (from ibm_watson_machine_learning) (2.27.1)\n",
            "Requirement already satisfied: urllib3 in /usr/local/lib/python3.10/dist-packages (from ibm_watson_machine_learning) (1.26.15)\n",
            "Requirement already satisfied: pandas<1.6.0,>=0.24.2 in /usr/local/lib/python3.10/dist-packages (from ibm_watson_machine_learning) (1.5.3)\n",
            "Requirement already satisfied: certifi in /usr/local/lib/python3.10/dist-packages (from ibm_watson_machine_learning) (2022.12.7)\n",
            "Collecting lomond (from ibm_watson_machine_learning)\n",
            "  Downloading lomond-0.3.3-py2.py3-none-any.whl (35 kB)\n",
            "Requirement already satisfied: tabulate in /usr/local/lib/python3.10/dist-packages (from ibm_watson_machine_learning) (0.8.10)\n",
            "Requirement already satisfied: packaging in /usr/local/lib/python3.10/dist-packages (from ibm_watson_machine_learning) (23.1)\n",
            "Collecting importlib-metadata (from ibm_watson_machine_learning)\n",
            "  Downloading importlib_metadata-6.6.0-py3-none-any.whl (22 kB)\n",
            "Collecting ibm-cos-sdk<2.14.0,>=2.12.0 (from ibm_watson_machine_learning)\n",
            "  Downloading ibm-cos-sdk-2.13.0.tar.gz (56 kB)\n",
            "\u001b[2K     \u001b[90m━━━━━━━━━━━━━━━━━━━━━━━━━━━━━━━━━━━━━━━━\u001b[0m \u001b[32m56.6/56.6 kB\u001b[0m \u001b[31m7.7 MB/s\u001b[0m eta \u001b[36m0:00:00\u001b[0m\n",
            "\u001b[?25h  Preparing metadata (setup.py) ... \u001b[?25l\u001b[?25hdone\n",
            "Collecting ibm-cos-sdk-core==2.13.0 (from ibm-cos-sdk<2.14.0,>=2.12.0->ibm_watson_machine_learning)\n",
            "  Downloading ibm-cos-sdk-core-2.13.0.tar.gz (971 kB)\n",
            "\u001b[2K     \u001b[90m━━━━━━━━━━━━━━━━━━━━━━━━━━━━━━━━━━━━━━\u001b[0m \u001b[32m971.7/971.7 kB\u001b[0m \u001b[31m41.6 MB/s\u001b[0m eta \u001b[36m0:00:00\u001b[0m\n",
            "\u001b[?25h  Preparing metadata (setup.py) ... \u001b[?25l\u001b[?25hdone\n",
            "Collecting ibm-cos-sdk-s3transfer==2.13.0 (from ibm-cos-sdk<2.14.0,>=2.12.0->ibm_watson_machine_learning)\n",
            "  Downloading ibm-cos-sdk-s3transfer-2.13.0.tar.gz (139 kB)\n",
            "\u001b[2K     \u001b[90m━━━━━━━━━━━━━━━━━━━━━━━━━━━━━━━━━━━━━━\u001b[0m \u001b[32m139.0/139.0 kB\u001b[0m \u001b[31m16.6 MB/s\u001b[0m eta \u001b[36m0:00:00\u001b[0m\n",
            "\u001b[?25h  Preparing metadata (setup.py) ... \u001b[?25l\u001b[?25hdone\n",
            "Collecting jmespath<=1.0.1,>=0.10.0 (from ibm-cos-sdk<2.14.0,>=2.12.0->ibm_watson_machine_learning)\n",
            "  Downloading jmespath-1.0.1-py3-none-any.whl (20 kB)\n",
            "Requirement already satisfied: python-dateutil<3.0.0,>=2.8.2 in /usr/local/lib/python3.10/dist-packages (from ibm-cos-sdk-core==2.13.0->ibm-cos-sdk<2.14.0,>=2.12.0->ibm_watson_machine_learning) (2.8.2)\n",
            "Collecting requests (from ibm_watson_machine_learning)\n",
            "  Downloading requests-2.30.0-py3-none-any.whl (62 kB)\n",
            "\u001b[2K     \u001b[90m━━━━━━━━━━━━━━━━━━━━━━━━━━━━━━━━━━━━━━━━\u001b[0m \u001b[32m62.5/62.5 kB\u001b[0m \u001b[31m8.2 MB/s\u001b[0m eta \u001b[36m0:00:00\u001b[0m\n",
            "\u001b[?25hRequirement already satisfied: pytz>=2020.1 in /usr/local/lib/python3.10/dist-packages (from pandas<1.6.0,>=0.24.2->ibm_watson_machine_learning) (2022.7.1)\n",
            "Requirement already satisfied: numpy>=1.21.0 in /usr/local/lib/python3.10/dist-packages (from pandas<1.6.0,>=0.24.2->ibm_watson_machine_learning) (1.22.4)\n",
            "Requirement already satisfied: charset-normalizer<4,>=2 in /usr/local/lib/python3.10/dist-packages (from requests->ibm_watson_machine_learning) (2.0.12)\n",
            "Requirement already satisfied: idna<4,>=2.5 in /usr/local/lib/python3.10/dist-packages (from requests->ibm_watson_machine_learning) (3.4)\n",
            "Requirement already satisfied: zipp>=0.5 in /usr/local/lib/python3.10/dist-packages (from importlib-metadata->ibm_watson_machine_learning) (3.15.0)\n",
            "Requirement already satisfied: six>=1.10.0 in /usr/local/lib/python3.10/dist-packages (from lomond->ibm_watson_machine_learning) (1.16.0)\n",
            "Building wheels for collected packages: ibm-cos-sdk, ibm-cos-sdk-core, ibm-cos-sdk-s3transfer\n",
            "  Building wheel for ibm-cos-sdk (setup.py) ... \u001b[?25l\u001b[?25hdone\n",
            "  Created wheel for ibm-cos-sdk: filename=ibm_cos_sdk-2.13.0-py3-none-any.whl size=73917 sha256=74f0e82da17c044b44b341bb23ae03d5f01de0a26e29807e83ffca383b852f4b\n",
            "  Stored in directory: /root/.cache/pip/wheels/3a/60/60/98c9354e8f8a6c0e3a0244bdb4a7ccf770af79abd57e54a873\n",
            "  Building wheel for ibm-cos-sdk-core (setup.py) ... \u001b[?25l\u001b[?25hdone\n",
            "  Created wheel for ibm-cos-sdk-core: filename=ibm_cos_sdk_core-2.13.0-py3-none-any.whl size=568144 sha256=698c0438c6dec698b96c69f50d8ff07b0adca72aaf4df16b248a593fc6c4fc49\n",
            "  Stored in directory: /root/.cache/pip/wheels/60/41/70/8ff7524fb7360a0be1554bd5c43c15080266e3d67b16b5a9ae\n",
            "  Building wheel for ibm-cos-sdk-s3transfer (setup.py) ... \u001b[?25l\u001b[?25hdone\n",
            "  Created wheel for ibm-cos-sdk-s3transfer: filename=ibm_cos_sdk_s3transfer-2.13.0-py3-none-any.whl size=90108 sha256=074e5ed82ee95ce94ab000bb12b1d98dcf7631f962811a56092175377f2a8d5f\n",
            "  Stored in directory: /root/.cache/pip/wheels/d3/01/1a/89b93f92f7569d366d39dbe0182a44f5d7317a6959151ff419\n",
            "Successfully built ibm-cos-sdk ibm-cos-sdk-core ibm-cos-sdk-s3transfer\n",
            "Installing collected packages: requests, lomond, jmespath, importlib-metadata, ibm-cos-sdk-core, ibm-cos-sdk-s3transfer, ibm-cos-sdk, ibm_watson_machine_learning\n",
            "  Attempting uninstall: requests\n",
            "    Found existing installation: requests 2.27.1\n",
            "    Uninstalling requests-2.27.1:\n",
            "      Successfully uninstalled requests-2.27.1\n",
            "\u001b[31mERROR: pip's dependency resolver does not currently take into account all the packages that are installed. This behaviour is the source of the following dependency conflicts.\n",
            "google-colab 1.0.0 requires requests==2.27.1, but you have requests 2.30.0 which is incompatible.\u001b[0m\u001b[31m\n",
            "\u001b[0mSuccessfully installed ibm-cos-sdk-2.13.0 ibm-cos-sdk-core-2.13.0 ibm-cos-sdk-s3transfer-2.13.0 ibm_watson_machine_learning-1.0.302 importlib-metadata-6.6.0 jmespath-1.0.1 lomond-0.3.3 requests-2.30.0\n"
          ]
        },
        {
          "data": {
            "application/vnd.colab-display-data+json": {
              "pip_warning": {
                "packages": [
                  "requests"
                ]
              }
            }
          },
          "metadata": {},
          "output_type": "display_data"
        }
      ],
      "source": [
        "!pip install ibm_watson_machine_learning"
      ]
    },
    {
      "cell_type": "code",
      "execution_count": null,
      "metadata": {
        "id": "TN0qnwQScJyT"
      },
      "outputs": [],
      "source": [
        "from ibm_watson_machine_learning import APIClient\n",
        "\n",
        "wml_credentials = {\n",
        "    \"url\":\"https://us-south.ml.cloud.ibm.com\",\n",
        "    \"apikey\":\"GSWqc2XVMMhBpklL9wu9VnWU2OoJGfIHjkX0EEDXnulV\"\n",
        "}"
      ]
    },
    {
      "cell_type": "code",
      "execution_count": null,
      "metadata": {
        "id": "YNMDWMqbcJ92"
      },
      "outputs": [],
      "source": [
        "client = APIClient(wml_credentials)"
      ]
    },
    {
      "cell_type": "code",
      "execution_count": null,
      "metadata": {
        "colab": {
          "base_uri": "https://localhost:8080/"
        },
        "id": "cUdDqgpAiPYR",
        "outputId": "6084de5b-6cbb-4112-f6a7-9c04534150c8"
      },
      "outputs": [
        {
          "data": {
            "text/plain": [
              "<ibm_watson_machine_learning.client.APIClient at 0x7f51b584fd30>"
            ]
          },
          "execution_count": 26,
          "metadata": {},
          "output_type": "execute_result"
        }
      ],
      "source": [
        "client"
      ]
    },
    {
      "cell_type": "code",
      "execution_count": null,
      "metadata": {
        "colab": {
          "base_uri": "https://localhost:8080/",
          "height": 167
        },
        "id": "ldnQGXJPslCo",
        "outputId": "27cf3f25-47f3-47b7-edf9-b90ab8303240"
      },
      "outputs": [
        {
          "name": "stdout",
          "output_type": "stream",
          "text": [
            "Note: 'limit' is not provided. Only first 50 records will be displayed if the number of records exceed 50\n",
            "------------------------------------  --------------------------------  ------------------------\n",
            "ID                                    NAME                              CREATED\n",
            "019888fb-7e45-4fba-90bc-1f86f5899d1d  automated-weather-classification  2023-05-21T12:58:02.004Z\n",
            "------------------------------------  --------------------------------  ------------------------\n"
          ]
        },
        {
          "data": {
            "text/html": [
              "\n",
              "  <div id=\"df-5706513f-d498-465c-a987-1e4e58c9ed2a\">\n",
              "    <div class=\"colab-df-container\">\n",
              "      <div>\n",
              "<style scoped>\n",
              "    .dataframe tbody tr th:only-of-type {\n",
              "        vertical-align: middle;\n",
              "    }\n",
              "\n",
              "    .dataframe tbody tr th {\n",
              "        vertical-align: top;\n",
              "    }\n",
              "\n",
              "    .dataframe thead th {\n",
              "        text-align: right;\n",
              "    }\n",
              "</style>\n",
              "<table border=\"1\" class=\"dataframe\">\n",
              "  <thead>\n",
              "    <tr style=\"text-align: right;\">\n",
              "      <th></th>\n",
              "      <th>ID</th>\n",
              "      <th>NAME</th>\n",
              "      <th>CREATED</th>\n",
              "    </tr>\n",
              "  </thead>\n",
              "  <tbody>\n",
              "    <tr>\n",
              "      <th>0</th>\n",
              "      <td>019888fb-7e45-4fba-90bc-1f86f5899d1d</td>\n",
              "      <td>automated-weather-classification</td>\n",
              "      <td>2023-05-21T12:58:02.004Z</td>\n",
              "    </tr>\n",
              "  </tbody>\n",
              "</table>\n",
              "</div>\n",
              "      <button class=\"colab-df-convert\" onclick=\"convertToInteractive('df-5706513f-d498-465c-a987-1e4e58c9ed2a')\"\n",
              "              title=\"Convert this dataframe to an interactive table.\"\n",
              "              style=\"display:none;\">\n",
              "        \n",
              "  <svg xmlns=\"http://www.w3.org/2000/svg\" height=\"24px\"viewBox=\"0 0 24 24\"\n",
              "       width=\"24px\">\n",
              "    <path d=\"M0 0h24v24H0V0z\" fill=\"none\"/>\n",
              "    <path d=\"M18.56 5.44l.94 2.06.94-2.06 2.06-.94-2.06-.94-.94-2.06-.94 2.06-2.06.94zm-11 1L8.5 8.5l.94-2.06 2.06-.94-2.06-.94L8.5 2.5l-.94 2.06-2.06.94zm10 10l.94 2.06.94-2.06 2.06-.94-2.06-.94-.94-2.06-.94 2.06-2.06.94z\"/><path d=\"M17.41 7.96l-1.37-1.37c-.4-.4-.92-.59-1.43-.59-.52 0-1.04.2-1.43.59L10.3 9.45l-7.72 7.72c-.78.78-.78 2.05 0 2.83L4 21.41c.39.39.9.59 1.41.59.51 0 1.02-.2 1.41-.59l7.78-7.78 2.81-2.81c.8-.78.8-2.07 0-2.86zM5.41 20L4 18.59l7.72-7.72 1.47 1.35L5.41 20z\"/>\n",
              "  </svg>\n",
              "      </button>\n",
              "      \n",
              "  <style>\n",
              "    .colab-df-container {\n",
              "      display:flex;\n",
              "      flex-wrap:wrap;\n",
              "      gap: 12px;\n",
              "    }\n",
              "\n",
              "    .colab-df-convert {\n",
              "      background-color: #E8F0FE;\n",
              "      border: none;\n",
              "      border-radius: 50%;\n",
              "      cursor: pointer;\n",
              "      display: none;\n",
              "      fill: #1967D2;\n",
              "      height: 32px;\n",
              "      padding: 0 0 0 0;\n",
              "      width: 32px;\n",
              "    }\n",
              "\n",
              "    .colab-df-convert:hover {\n",
              "      background-color: #E2EBFA;\n",
              "      box-shadow: 0px 1px 2px rgba(60, 64, 67, 0.3), 0px 1px 3px 1px rgba(60, 64, 67, 0.15);\n",
              "      fill: #174EA6;\n",
              "    }\n",
              "\n",
              "    [theme=dark] .colab-df-convert {\n",
              "      background-color: #3B4455;\n",
              "      fill: #D2E3FC;\n",
              "    }\n",
              "\n",
              "    [theme=dark] .colab-df-convert:hover {\n",
              "      background-color: #434B5C;\n",
              "      box-shadow: 0px 1px 3px 1px rgba(0, 0, 0, 0.15);\n",
              "      filter: drop-shadow(0px 1px 2px rgba(0, 0, 0, 0.3));\n",
              "      fill: #FFFFFF;\n",
              "    }\n",
              "  </style>\n",
              "\n",
              "      <script>\n",
              "        const buttonEl =\n",
              "          document.querySelector('#df-5706513f-d498-465c-a987-1e4e58c9ed2a button.colab-df-convert');\n",
              "        buttonEl.style.display =\n",
              "          google.colab.kernel.accessAllowed ? 'block' : 'none';\n",
              "\n",
              "        async function convertToInteractive(key) {\n",
              "          const element = document.querySelector('#df-5706513f-d498-465c-a987-1e4e58c9ed2a');\n",
              "          const dataTable =\n",
              "            await google.colab.kernel.invokeFunction('convertToInteractive',\n",
              "                                                     [key], {});\n",
              "          if (!dataTable) return;\n",
              "\n",
              "          const docLinkHtml = 'Like what you see? Visit the ' +\n",
              "            '<a target=\"_blank\" href=https://colab.research.google.com/notebooks/data_table.ipynb>data table notebook</a>'\n",
              "            + ' to learn more about interactive tables.';\n",
              "          element.innerHTML = '';\n",
              "          dataTable['output_type'] = 'display_data';\n",
              "          await google.colab.output.renderOutput(dataTable, element);\n",
              "          const docLink = document.createElement('div');\n",
              "          docLink.innerHTML = docLinkHtml;\n",
              "          element.appendChild(docLink);\n",
              "        }\n",
              "      </script>\n",
              "    </div>\n",
              "  </div>\n",
              "  "
            ],
            "text/plain": [
              "                                     ID                              NAME  \\\n",
              "0  019888fb-7e45-4fba-90bc-1f86f5899d1d  automated-weather-classification   \n",
              "\n",
              "                    CREATED  \n",
              "0  2023-05-21T12:58:02.004Z  "
            ]
          },
          "execution_count": 28,
          "metadata": {},
          "output_type": "execute_result"
        }
      ],
      "source": [
        "client.spaces.list()"
      ]
    },
    {
      "cell_type": "code",
      "execution_count": null,
      "metadata": {
        "colab": {
          "base_uri": "https://localhost:8080/",
          "height": 36
        },
        "id": "Td9t_rHeslF3",
        "outputId": "11041eaf-297a-4222-a82f-796da713e182"
      },
      "outputs": [
        {
          "data": {
            "application/vnd.google.colaboratory.intrinsic+json": {
              "type": "string"
            },
            "text/plain": [
              "'019888fb-7e45-4fba-90bc-1f86f5899d1d'"
            ]
          },
          "execution_count": 29,
          "metadata": {},
          "output_type": "execute_result"
        }
      ],
      "source": [
        "space_uid = \"019888fb-7e45-4fba-90bc-1f86f5899d1d\"\n",
        "space_uid"
      ]
    },
    {
      "cell_type": "code",
      "execution_count": null,
      "metadata": {
        "colab": {
          "base_uri": "https://localhost:8080/",
          "height": 36
        },
        "id": "nMUr0E-ZslRC",
        "outputId": "f07986c4-4e73-49ca-9b6d-a11a39e784ff"
      },
      "outputs": [
        {
          "data": {
            "application/vnd.google.colaboratory.intrinsic+json": {
              "type": "string"
            },
            "text/plain": [
              "'SUCCESS'"
            ]
          },
          "execution_count": 30,
          "metadata": {},
          "output_type": "execute_result"
        }
      ],
      "source": [
        "client.set.default_space(space_uid)"
      ]
    },
    {
      "cell_type": "code",
      "execution_count": null,
      "metadata": {
        "colab": {
          "base_uri": "https://localhost:8080/",
          "height": 1000
        },
        "id": "cdrbArUrbSdb",
        "outputId": "d233b8dc-3d26-4cbe-8abc-dae61869b9a8"
      },
      "outputs": [
        {
          "name": "stdout",
          "output_type": "stream",
          "text": [
            "----------------------------  ------------------------------------  ----  ------------------  --------------------------\n",
            "NAME                          ID                                    TYPE  STATE               REPLACEMENT\n",
            "default_py3.6                 0062b8c9-8b7d-44a0-a9b9-46c416adcbd9  base  unsupported         runtime-22.2-py3.10\n",
            "autoai-ts_rt23.1-py3.10       01ce9391-1a79-5a33-94fb-2e134337f314  base  not_provided\n",
            "kernel-spark3.2-scala2.12     020d69ce-7ac1-5e68-ac1a-31189867356a  base  not_provided\n",
            "pytorch-onnx_1.3-py3.7-edt    069ea134-3346-5748-b513-49120e15d288  base  not_provided\n",
            "tensorflow_rt23.1-py3.10      079a91e0-245f-5269-8926-3c20b28f37dc  base  not_provided\n",
            "scikit-learn_0.20-py3.6       09c5a1d0-9c1e-4473-a344-eb7b665ff687  base  unsupported         runtime-22.2-py3.10\n",
            "spark-mllib_3.0-scala_2.12    09f4cff0-90a7-5899-b9ed-1ef348aebdee  base  unsupported\n",
            "pytorch-onnx_rt22.1-py3.9     0b848dd4-e681-5599-be41-b5f6fccc6471  base  create-unsupported  pytorch-onnx_rt22.2-py3.10\n",
            "ai-function_0.1-py3.6         0cdb0f1e-5376-4f4d-92dd-da3b69aa9bda  base  unsupported         runtime-22.2-py3.10\n",
            "shiny-r3.6                    0e6e79df-875e-4f24-8ae9-62dcc2148306  base  not_provided\n",
            "tensorflow_2.4-py3.7-horovod  1092590a-307d-563d-9b62-4eb7d64b3f22  base  unsupported         tensorflow_rt22.2-py3.10\n",
            "pytorch_1.1-py3.6             10ac12d6-6b30-4ccd-8392-3e922c096a92  base  unsupported\n",
            "tensorflow_1.15-py3.6-ddl     111e41b3-de2d-5422-a4d6-bf776828c4b7  base  unsupported\n",
            "autoai-kb_rt22.2-py3.10       125b6d9a-5b1f-5e8d-972a-b251688ccf40  base  supported\n",
            "runtime-22.1-py3.9            12b83a17-24d8-5082-900f-0ab31fbfd3cb  base  create-unsupported  runtime-22.2-py3.10\n",
            "scikit-learn_0.22-py3.6       154010fa-5b3b-4ac1-82af-4d5ee5abbc85  base  unsupported         runtime-22.2-py3.10\n",
            "pytorch-onnx_rt23.1-py3.10    195067e6-4c5e-5fab-8bd0-e7623a88b4d3  base  not_provided\n",
            "default_r3.6                  1b70aec3-ab34-4b87-8aa0-a4a3c8296a36  base  deprecated\n",
            "pytorch-onnx_1.3-py3.6        1bc6029a-cc97-56da-b8e0-39c3880dbbe7  base  unsupported         runtime-22.2-py3.10\n",
            "kernel-spark3.3-r3.6          1c9e5454-f216-59dd-a20e-474a5cdf5988  base  not_provided\n",
            "tensorflow_2.1-py3.6          1eb25b84-d6ed-5dde-b6a5-3fbdf1665666  base  unsupported         runtime-22.2-py3.10\n",
            "spark-mllib_3.2               20047f72-0a98-58c7-9ff5-a77b012eb8f5  base  unsupported         spark-mllib_3.3\n",
            "tensorflow_2.4-py3.8-horovod  217c16f6-178f-56bf-824a-b19f20564c49  base  unsupported         tensorflow_rt22.2-py3.10\n",
            "runtime-22.1-py3.9-cuda       26215f05-08c3-5a41-a1b0-da66306ce658  base  create-unsupported  runtime-22.2-py3.10-cuda\n",
            "do_py3.8                      295addb5-9ef9-547e-9bf4-92ae3563e720  base  not_provided\n",
            "autoai-ts_3.8-py3.8           2aa0c932-798f-5ae9-abd6-15e0c2402fb5  base  unsupported         autoai-ts_rt22.2-py3.10\n",
            "tensorflow_1.15-py3.6         2b73a275-7cbf-420b-a912-eae7f436e0bc  base  unsupported         runtime-22.2-py3.10\n",
            "kernel-spark3.3-py3.9         2b7961e2-e3b1-5a8c-a491-482c8368839a  base  not_provided\n",
            "pytorch_1.2-py3.6             2c8ef57d-2687-4b7d-acce-01f94976dac1  base  unsupported         runtime-22.2-py3.10\n",
            "spark-mllib_2.3               2e51f700-bca0-4b0d-88dc-5c6791338875  base  create-unsupported  spark-mllib_3.3\n",
            "pytorch-onnx_1.1-py3.6-edt    32983cea-3f32-4400-8965-dde874a8d67e  base  unsupported\n",
            "spark-mllib_3.0-py37          36507ebe-8770-55ba-ab2a-eafe787600e9  base  unsupported         spark-mllib_3.3\n",
            "spark-mllib_2.4               390d21f8-e58b-4fac-9c55-d7ceda621326  base  unsupported         spark-mllib_3.3\n",
            "autoai-ts_rt22.2-py3.10       396b2e83-0953-5b86-9a55-7ce1628a406f  base  supported\n",
            "xgboost_0.82-py3.6            39e31acd-5f30-41dc-ae44-60233c80306e  base  unsupported         runtime-22.2-py3.10\n",
            "pytorch-onnx_1.2-py3.6-edt    40589d0e-7019-4e28-8daa-fb03b6f4fe12  base  unsupported\n",
            "pytorch-onnx_rt22.2-py3.10    40e73f55-783a-5535-b3fa-0c8b94291431  base  supported\n",
            "default_r36py38               41c247d3-45f8-5a71-b065-8580229facf0  base  not_provided\n",
            "autoai-ts_rt22.1-py3.9        4269d26e-07ba-5d40-8f66-2d495b0c71f7  base  create-unsupported  autoai-ts_rt22.2-py3.10\n",
            "autoai-obm_3.0                42b92e18-d9ab-567f-988a-4240ba1ed5f7  base  unsupported         autoai-obm_3.2\n",
            "pmml-3.0_4.3                  493bcb95-16f1-5bc5-bee8-81b8af80e9c7  base  supported\n",
            "spark-mllib_2.4-r_3.6         49403dff-92e9-4c87-a3d7-a42d0021c095  base  unsupported         spark-mllib_3.3\n",
            "xgboost_0.90-py3.6            4ff8d6c2-1343-4c18-85e1-689c965304d3  base  unsupported         runtime-22.2-py3.10\n",
            "pytorch-onnx_1.1-py3.6        50f95b2a-bc16-43bb-bc94-b0bed208c60b  base  unsupported         runtime-22.2-py3.10\n",
            "autoai-ts_3.9-py3.8           52c57136-80fa-572e-8728-a5e7cbb42cde  base  unsupported         autoai-ts_rt22.2-py3.10\n",
            "spark-mllib_2.4-scala_2.11    55a70f99-7320-4be5-9fb9-9edb5a443af5  base  unsupported         spark-mllib_3.3\n",
            "spark-mllib_3.0               5c1b0ca2-4977-5c2e-9439-ffd44ea8ffe9  base  unsupported         spark-mllib_3.3\n",
            "autoai-obm_2.0                5c2e37fa-80b8-5e77-840f-d912469614ee  base  unsupported         autoai-obm_3.2\n",
            "spss-modeler_18.1             5c3cad7e-507f-4b2a-a9a3-ab53a21dee8b  base  supported\n",
            "cuda-py3.8                    5d3232bf-c86b-5df4-a2cd-7bb870a1cd4e  base  not_provided\n",
            "----------------------------  ------------------------------------  ----  ------------------  --------------------------\n",
            "Note: Only first 50 records were displayed. To display more use 'limit' parameter.\n"
          ]
        },
        {
          "data": {
            "text/html": [
              "\n",
              "  <div id=\"df-dd9c96b4-2f22-4e3b-84f9-8e495d63ece3\">\n",
              "    <div class=\"colab-df-container\">\n",
              "      <div>\n",
              "<style scoped>\n",
              "    .dataframe tbody tr th:only-of-type {\n",
              "        vertical-align: middle;\n",
              "    }\n",
              "\n",
              "    .dataframe tbody tr th {\n",
              "        vertical-align: top;\n",
              "    }\n",
              "\n",
              "    .dataframe thead th {\n",
              "        text-align: right;\n",
              "    }\n",
              "</style>\n",
              "<table border=\"1\" class=\"dataframe\">\n",
              "  <thead>\n",
              "    <tr style=\"text-align: right;\">\n",
              "      <th></th>\n",
              "      <th>NAME</th>\n",
              "      <th>ID</th>\n",
              "      <th>TYPE</th>\n",
              "      <th>STATE</th>\n",
              "      <th>REPLACEMENT</th>\n",
              "    </tr>\n",
              "  </thead>\n",
              "  <tbody>\n",
              "    <tr>\n",
              "      <th>0</th>\n",
              "      <td>default_py3.6</td>\n",
              "      <td>0062b8c9-8b7d-44a0-a9b9-46c416adcbd9</td>\n",
              "      <td>base</td>\n",
              "      <td>unsupported</td>\n",
              "      <td>runtime-22.2-py3.10</td>\n",
              "    </tr>\n",
              "    <tr>\n",
              "      <th>1</th>\n",
              "      <td>autoai-ts_rt23.1-py3.10</td>\n",
              "      <td>01ce9391-1a79-5a33-94fb-2e134337f314</td>\n",
              "      <td>base</td>\n",
              "      <td>not_provided</td>\n",
              "      <td></td>\n",
              "    </tr>\n",
              "    <tr>\n",
              "      <th>2</th>\n",
              "      <td>kernel-spark3.2-scala2.12</td>\n",
              "      <td>020d69ce-7ac1-5e68-ac1a-31189867356a</td>\n",
              "      <td>base</td>\n",
              "      <td>not_provided</td>\n",
              "      <td></td>\n",
              "    </tr>\n",
              "    <tr>\n",
              "      <th>3</th>\n",
              "      <td>pytorch-onnx_1.3-py3.7-edt</td>\n",
              "      <td>069ea134-3346-5748-b513-49120e15d288</td>\n",
              "      <td>base</td>\n",
              "      <td>not_provided</td>\n",
              "      <td></td>\n",
              "    </tr>\n",
              "    <tr>\n",
              "      <th>4</th>\n",
              "      <td>tensorflow_rt23.1-py3.10</td>\n",
              "      <td>079a91e0-245f-5269-8926-3c20b28f37dc</td>\n",
              "      <td>base</td>\n",
              "      <td>not_provided</td>\n",
              "      <td></td>\n",
              "    </tr>\n",
              "    <tr>\n",
              "      <th>5</th>\n",
              "      <td>scikit-learn_0.20-py3.6</td>\n",
              "      <td>09c5a1d0-9c1e-4473-a344-eb7b665ff687</td>\n",
              "      <td>base</td>\n",
              "      <td>unsupported</td>\n",
              "      <td>runtime-22.2-py3.10</td>\n",
              "    </tr>\n",
              "    <tr>\n",
              "      <th>6</th>\n",
              "      <td>spark-mllib_3.0-scala_2.12</td>\n",
              "      <td>09f4cff0-90a7-5899-b9ed-1ef348aebdee</td>\n",
              "      <td>base</td>\n",
              "      <td>unsupported</td>\n",
              "      <td></td>\n",
              "    </tr>\n",
              "    <tr>\n",
              "      <th>7</th>\n",
              "      <td>pytorch-onnx_rt22.1-py3.9</td>\n",
              "      <td>0b848dd4-e681-5599-be41-b5f6fccc6471</td>\n",
              "      <td>base</td>\n",
              "      <td>create-unsupported</td>\n",
              "      <td>pytorch-onnx_rt22.2-py3.10</td>\n",
              "    </tr>\n",
              "    <tr>\n",
              "      <th>8</th>\n",
              "      <td>ai-function_0.1-py3.6</td>\n",
              "      <td>0cdb0f1e-5376-4f4d-92dd-da3b69aa9bda</td>\n",
              "      <td>base</td>\n",
              "      <td>unsupported</td>\n",
              "      <td>runtime-22.2-py3.10</td>\n",
              "    </tr>\n",
              "    <tr>\n",
              "      <th>9</th>\n",
              "      <td>shiny-r3.6</td>\n",
              "      <td>0e6e79df-875e-4f24-8ae9-62dcc2148306</td>\n",
              "      <td>base</td>\n",
              "      <td>not_provided</td>\n",
              "      <td></td>\n",
              "    </tr>\n",
              "    <tr>\n",
              "      <th>10</th>\n",
              "      <td>tensorflow_2.4-py3.7-horovod</td>\n",
              "      <td>1092590a-307d-563d-9b62-4eb7d64b3f22</td>\n",
              "      <td>base</td>\n",
              "      <td>unsupported</td>\n",
              "      <td>tensorflow_rt22.2-py3.10</td>\n",
              "    </tr>\n",
              "    <tr>\n",
              "      <th>11</th>\n",
              "      <td>pytorch_1.1-py3.6</td>\n",
              "      <td>10ac12d6-6b30-4ccd-8392-3e922c096a92</td>\n",
              "      <td>base</td>\n",
              "      <td>unsupported</td>\n",
              "      <td></td>\n",
              "    </tr>\n",
              "    <tr>\n",
              "      <th>12</th>\n",
              "      <td>tensorflow_1.15-py3.6-ddl</td>\n",
              "      <td>111e41b3-de2d-5422-a4d6-bf776828c4b7</td>\n",
              "      <td>base</td>\n",
              "      <td>unsupported</td>\n",
              "      <td></td>\n",
              "    </tr>\n",
              "    <tr>\n",
              "      <th>13</th>\n",
              "      <td>autoai-kb_rt22.2-py3.10</td>\n",
              "      <td>125b6d9a-5b1f-5e8d-972a-b251688ccf40</td>\n",
              "      <td>base</td>\n",
              "      <td>supported</td>\n",
              "      <td></td>\n",
              "    </tr>\n",
              "    <tr>\n",
              "      <th>14</th>\n",
              "      <td>runtime-22.1-py3.9</td>\n",
              "      <td>12b83a17-24d8-5082-900f-0ab31fbfd3cb</td>\n",
              "      <td>base</td>\n",
              "      <td>create-unsupported</td>\n",
              "      <td>runtime-22.2-py3.10</td>\n",
              "    </tr>\n",
              "    <tr>\n",
              "      <th>15</th>\n",
              "      <td>scikit-learn_0.22-py3.6</td>\n",
              "      <td>154010fa-5b3b-4ac1-82af-4d5ee5abbc85</td>\n",
              "      <td>base</td>\n",
              "      <td>unsupported</td>\n",
              "      <td>runtime-22.2-py3.10</td>\n",
              "    </tr>\n",
              "    <tr>\n",
              "      <th>16</th>\n",
              "      <td>pytorch-onnx_rt23.1-py3.10</td>\n",
              "      <td>195067e6-4c5e-5fab-8bd0-e7623a88b4d3</td>\n",
              "      <td>base</td>\n",
              "      <td>not_provided</td>\n",
              "      <td></td>\n",
              "    </tr>\n",
              "    <tr>\n",
              "      <th>17</th>\n",
              "      <td>default_r3.6</td>\n",
              "      <td>1b70aec3-ab34-4b87-8aa0-a4a3c8296a36</td>\n",
              "      <td>base</td>\n",
              "      <td>deprecated</td>\n",
              "      <td></td>\n",
              "    </tr>\n",
              "    <tr>\n",
              "      <th>18</th>\n",
              "      <td>pytorch-onnx_1.3-py3.6</td>\n",
              "      <td>1bc6029a-cc97-56da-b8e0-39c3880dbbe7</td>\n",
              "      <td>base</td>\n",
              "      <td>unsupported</td>\n",
              "      <td>runtime-22.2-py3.10</td>\n",
              "    </tr>\n",
              "    <tr>\n",
              "      <th>19</th>\n",
              "      <td>kernel-spark3.3-r3.6</td>\n",
              "      <td>1c9e5454-f216-59dd-a20e-474a5cdf5988</td>\n",
              "      <td>base</td>\n",
              "      <td>not_provided</td>\n",
              "      <td></td>\n",
              "    </tr>\n",
              "    <tr>\n",
              "      <th>20</th>\n",
              "      <td>tensorflow_2.1-py3.6</td>\n",
              "      <td>1eb25b84-d6ed-5dde-b6a5-3fbdf1665666</td>\n",
              "      <td>base</td>\n",
              "      <td>unsupported</td>\n",
              "      <td>runtime-22.2-py3.10</td>\n",
              "    </tr>\n",
              "    <tr>\n",
              "      <th>21</th>\n",
              "      <td>spark-mllib_3.2</td>\n",
              "      <td>20047f72-0a98-58c7-9ff5-a77b012eb8f5</td>\n",
              "      <td>base</td>\n",
              "      <td>unsupported</td>\n",
              "      <td>spark-mllib_3.3</td>\n",
              "    </tr>\n",
              "    <tr>\n",
              "      <th>22</th>\n",
              "      <td>tensorflow_2.4-py3.8-horovod</td>\n",
              "      <td>217c16f6-178f-56bf-824a-b19f20564c49</td>\n",
              "      <td>base</td>\n",
              "      <td>unsupported</td>\n",
              "      <td>tensorflow_rt22.2-py3.10</td>\n",
              "    </tr>\n",
              "    <tr>\n",
              "      <th>23</th>\n",
              "      <td>runtime-22.1-py3.9-cuda</td>\n",
              "      <td>26215f05-08c3-5a41-a1b0-da66306ce658</td>\n",
              "      <td>base</td>\n",
              "      <td>create-unsupported</td>\n",
              "      <td>runtime-22.2-py3.10-cuda</td>\n",
              "    </tr>\n",
              "    <tr>\n",
              "      <th>24</th>\n",
              "      <td>do_py3.8</td>\n",
              "      <td>295addb5-9ef9-547e-9bf4-92ae3563e720</td>\n",
              "      <td>base</td>\n",
              "      <td>not_provided</td>\n",
              "      <td></td>\n",
              "    </tr>\n",
              "    <tr>\n",
              "      <th>25</th>\n",
              "      <td>autoai-ts_3.8-py3.8</td>\n",
              "      <td>2aa0c932-798f-5ae9-abd6-15e0c2402fb5</td>\n",
              "      <td>base</td>\n",
              "      <td>unsupported</td>\n",
              "      <td>autoai-ts_rt22.2-py3.10</td>\n",
              "    </tr>\n",
              "    <tr>\n",
              "      <th>26</th>\n",
              "      <td>tensorflow_1.15-py3.6</td>\n",
              "      <td>2b73a275-7cbf-420b-a912-eae7f436e0bc</td>\n",
              "      <td>base</td>\n",
              "      <td>unsupported</td>\n",
              "      <td>runtime-22.2-py3.10</td>\n",
              "    </tr>\n",
              "    <tr>\n",
              "      <th>27</th>\n",
              "      <td>kernel-spark3.3-py3.9</td>\n",
              "      <td>2b7961e2-e3b1-5a8c-a491-482c8368839a</td>\n",
              "      <td>base</td>\n",
              "      <td>not_provided</td>\n",
              "      <td></td>\n",
              "    </tr>\n",
              "    <tr>\n",
              "      <th>28</th>\n",
              "      <td>pytorch_1.2-py3.6</td>\n",
              "      <td>2c8ef57d-2687-4b7d-acce-01f94976dac1</td>\n",
              "      <td>base</td>\n",
              "      <td>unsupported</td>\n",
              "      <td>runtime-22.2-py3.10</td>\n",
              "    </tr>\n",
              "    <tr>\n",
              "      <th>29</th>\n",
              "      <td>spark-mllib_2.3</td>\n",
              "      <td>2e51f700-bca0-4b0d-88dc-5c6791338875</td>\n",
              "      <td>base</td>\n",
              "      <td>create-unsupported</td>\n",
              "      <td>spark-mllib_3.3</td>\n",
              "    </tr>\n",
              "    <tr>\n",
              "      <th>30</th>\n",
              "      <td>pytorch-onnx_1.1-py3.6-edt</td>\n",
              "      <td>32983cea-3f32-4400-8965-dde874a8d67e</td>\n",
              "      <td>base</td>\n",
              "      <td>unsupported</td>\n",
              "      <td></td>\n",
              "    </tr>\n",
              "    <tr>\n",
              "      <th>31</th>\n",
              "      <td>spark-mllib_3.0-py37</td>\n",
              "      <td>36507ebe-8770-55ba-ab2a-eafe787600e9</td>\n",
              "      <td>base</td>\n",
              "      <td>unsupported</td>\n",
              "      <td>spark-mllib_3.3</td>\n",
              "    </tr>\n",
              "    <tr>\n",
              "      <th>32</th>\n",
              "      <td>spark-mllib_2.4</td>\n",
              "      <td>390d21f8-e58b-4fac-9c55-d7ceda621326</td>\n",
              "      <td>base</td>\n",
              "      <td>unsupported</td>\n",
              "      <td>spark-mllib_3.3</td>\n",
              "    </tr>\n",
              "    <tr>\n",
              "      <th>33</th>\n",
              "      <td>autoai-ts_rt22.2-py3.10</td>\n",
              "      <td>396b2e83-0953-5b86-9a55-7ce1628a406f</td>\n",
              "      <td>base</td>\n",
              "      <td>supported</td>\n",
              "      <td></td>\n",
              "    </tr>\n",
              "    <tr>\n",
              "      <th>34</th>\n",
              "      <td>xgboost_0.82-py3.6</td>\n",
              "      <td>39e31acd-5f30-41dc-ae44-60233c80306e</td>\n",
              "      <td>base</td>\n",
              "      <td>unsupported</td>\n",
              "      <td>runtime-22.2-py3.10</td>\n",
              "    </tr>\n",
              "    <tr>\n",
              "      <th>35</th>\n",
              "      <td>pytorch-onnx_1.2-py3.6-edt</td>\n",
              "      <td>40589d0e-7019-4e28-8daa-fb03b6f4fe12</td>\n",
              "      <td>base</td>\n",
              "      <td>unsupported</td>\n",
              "      <td></td>\n",
              "    </tr>\n",
              "    <tr>\n",
              "      <th>36</th>\n",
              "      <td>pytorch-onnx_rt22.2-py3.10</td>\n",
              "      <td>40e73f55-783a-5535-b3fa-0c8b94291431</td>\n",
              "      <td>base</td>\n",
              "      <td>supported</td>\n",
              "      <td></td>\n",
              "    </tr>\n",
              "    <tr>\n",
              "      <th>37</th>\n",
              "      <td>default_r36py38</td>\n",
              "      <td>41c247d3-45f8-5a71-b065-8580229facf0</td>\n",
              "      <td>base</td>\n",
              "      <td>not_provided</td>\n",
              "      <td></td>\n",
              "    </tr>\n",
              "    <tr>\n",
              "      <th>38</th>\n",
              "      <td>autoai-ts_rt22.1-py3.9</td>\n",
              "      <td>4269d26e-07ba-5d40-8f66-2d495b0c71f7</td>\n",
              "      <td>base</td>\n",
              "      <td>create-unsupported</td>\n",
              "      <td>autoai-ts_rt22.2-py3.10</td>\n",
              "    </tr>\n",
              "    <tr>\n",
              "      <th>39</th>\n",
              "      <td>autoai-obm_3.0</td>\n",
              "      <td>42b92e18-d9ab-567f-988a-4240ba1ed5f7</td>\n",
              "      <td>base</td>\n",
              "      <td>unsupported</td>\n",
              "      <td>autoai-obm_3.2</td>\n",
              "    </tr>\n",
              "    <tr>\n",
              "      <th>40</th>\n",
              "      <td>pmml-3.0_4.3</td>\n",
              "      <td>493bcb95-16f1-5bc5-bee8-81b8af80e9c7</td>\n",
              "      <td>base</td>\n",
              "      <td>supported</td>\n",
              "      <td></td>\n",
              "    </tr>\n",
              "    <tr>\n",
              "      <th>41</th>\n",
              "      <td>spark-mllib_2.4-r_3.6</td>\n",
              "      <td>49403dff-92e9-4c87-a3d7-a42d0021c095</td>\n",
              "      <td>base</td>\n",
              "      <td>unsupported</td>\n",
              "      <td>spark-mllib_3.3</td>\n",
              "    </tr>\n",
              "    <tr>\n",
              "      <th>42</th>\n",
              "      <td>xgboost_0.90-py3.6</td>\n",
              "      <td>4ff8d6c2-1343-4c18-85e1-689c965304d3</td>\n",
              "      <td>base</td>\n",
              "      <td>unsupported</td>\n",
              "      <td>runtime-22.2-py3.10</td>\n",
              "    </tr>\n",
              "    <tr>\n",
              "      <th>43</th>\n",
              "      <td>pytorch-onnx_1.1-py3.6</td>\n",
              "      <td>50f95b2a-bc16-43bb-bc94-b0bed208c60b</td>\n",
              "      <td>base</td>\n",
              "      <td>unsupported</td>\n",
              "      <td>runtime-22.2-py3.10</td>\n",
              "    </tr>\n",
              "    <tr>\n",
              "      <th>44</th>\n",
              "      <td>autoai-ts_3.9-py3.8</td>\n",
              "      <td>52c57136-80fa-572e-8728-a5e7cbb42cde</td>\n",
              "      <td>base</td>\n",
              "      <td>unsupported</td>\n",
              "      <td>autoai-ts_rt22.2-py3.10</td>\n",
              "    </tr>\n",
              "    <tr>\n",
              "      <th>45</th>\n",
              "      <td>spark-mllib_2.4-scala_2.11</td>\n",
              "      <td>55a70f99-7320-4be5-9fb9-9edb5a443af5</td>\n",
              "      <td>base</td>\n",
              "      <td>unsupported</td>\n",
              "      <td>spark-mllib_3.3</td>\n",
              "    </tr>\n",
              "    <tr>\n",
              "      <th>46</th>\n",
              "      <td>spark-mllib_3.0</td>\n",
              "      <td>5c1b0ca2-4977-5c2e-9439-ffd44ea8ffe9</td>\n",
              "      <td>base</td>\n",
              "      <td>unsupported</td>\n",
              "      <td>spark-mllib_3.3</td>\n",
              "    </tr>\n",
              "    <tr>\n",
              "      <th>47</th>\n",
              "      <td>autoai-obm_2.0</td>\n",
              "      <td>5c2e37fa-80b8-5e77-840f-d912469614ee</td>\n",
              "      <td>base</td>\n",
              "      <td>unsupported</td>\n",
              "      <td>autoai-obm_3.2</td>\n",
              "    </tr>\n",
              "    <tr>\n",
              "      <th>48</th>\n",
              "      <td>spss-modeler_18.1</td>\n",
              "      <td>5c3cad7e-507f-4b2a-a9a3-ab53a21dee8b</td>\n",
              "      <td>base</td>\n",
              "      <td>supported</td>\n",
              "      <td></td>\n",
              "    </tr>\n",
              "    <tr>\n",
              "      <th>49</th>\n",
              "      <td>cuda-py3.8</td>\n",
              "      <td>5d3232bf-c86b-5df4-a2cd-7bb870a1cd4e</td>\n",
              "      <td>base</td>\n",
              "      <td>not_provided</td>\n",
              "      <td></td>\n",
              "    </tr>\n",
              "  </tbody>\n",
              "</table>\n",
              "</div>\n",
              "      <button class=\"colab-df-convert\" onclick=\"convertToInteractive('df-dd9c96b4-2f22-4e3b-84f9-8e495d63ece3')\"\n",
              "              title=\"Convert this dataframe to an interactive table.\"\n",
              "              style=\"display:none;\">\n",
              "        \n",
              "  <svg xmlns=\"http://www.w3.org/2000/svg\" height=\"24px\"viewBox=\"0 0 24 24\"\n",
              "       width=\"24px\">\n",
              "    <path d=\"M0 0h24v24H0V0z\" fill=\"none\"/>\n",
              "    <path d=\"M18.56 5.44l.94 2.06.94-2.06 2.06-.94-2.06-.94-.94-2.06-.94 2.06-2.06.94zm-11 1L8.5 8.5l.94-2.06 2.06-.94-2.06-.94L8.5 2.5l-.94 2.06-2.06.94zm10 10l.94 2.06.94-2.06 2.06-.94-2.06-.94-.94-2.06-.94 2.06-2.06.94z\"/><path d=\"M17.41 7.96l-1.37-1.37c-.4-.4-.92-.59-1.43-.59-.52 0-1.04.2-1.43.59L10.3 9.45l-7.72 7.72c-.78.78-.78 2.05 0 2.83L4 21.41c.39.39.9.59 1.41.59.51 0 1.02-.2 1.41-.59l7.78-7.78 2.81-2.81c.8-.78.8-2.07 0-2.86zM5.41 20L4 18.59l7.72-7.72 1.47 1.35L5.41 20z\"/>\n",
              "  </svg>\n",
              "      </button>\n",
              "      \n",
              "  <style>\n",
              "    .colab-df-container {\n",
              "      display:flex;\n",
              "      flex-wrap:wrap;\n",
              "      gap: 12px;\n",
              "    }\n",
              "\n",
              "    .colab-df-convert {\n",
              "      background-color: #E8F0FE;\n",
              "      border: none;\n",
              "      border-radius: 50%;\n",
              "      cursor: pointer;\n",
              "      display: none;\n",
              "      fill: #1967D2;\n",
              "      height: 32px;\n",
              "      padding: 0 0 0 0;\n",
              "      width: 32px;\n",
              "    }\n",
              "\n",
              "    .colab-df-convert:hover {\n",
              "      background-color: #E2EBFA;\n",
              "      box-shadow: 0px 1px 2px rgba(60, 64, 67, 0.3), 0px 1px 3px 1px rgba(60, 64, 67, 0.15);\n",
              "      fill: #174EA6;\n",
              "    }\n",
              "\n",
              "    [theme=dark] .colab-df-convert {\n",
              "      background-color: #3B4455;\n",
              "      fill: #D2E3FC;\n",
              "    }\n",
              "\n",
              "    [theme=dark] .colab-df-convert:hover {\n",
              "      background-color: #434B5C;\n",
              "      box-shadow: 0px 1px 3px 1px rgba(0, 0, 0, 0.15);\n",
              "      filter: drop-shadow(0px 1px 2px rgba(0, 0, 0, 0.3));\n",
              "      fill: #FFFFFF;\n",
              "    }\n",
              "  </style>\n",
              "\n",
              "      <script>\n",
              "        const buttonEl =\n",
              "          document.querySelector('#df-dd9c96b4-2f22-4e3b-84f9-8e495d63ece3 button.colab-df-convert');\n",
              "        buttonEl.style.display =\n",
              "          google.colab.kernel.accessAllowed ? 'block' : 'none';\n",
              "\n",
              "        async function convertToInteractive(key) {\n",
              "          const element = document.querySelector('#df-dd9c96b4-2f22-4e3b-84f9-8e495d63ece3');\n",
              "          const dataTable =\n",
              "            await google.colab.kernel.invokeFunction('convertToInteractive',\n",
              "                                                     [key], {});\n",
              "          if (!dataTable) return;\n",
              "\n",
              "          const docLinkHtml = 'Like what you see? Visit the ' +\n",
              "            '<a target=\"_blank\" href=https://colab.research.google.com/notebooks/data_table.ipynb>data table notebook</a>'\n",
              "            + ' to learn more about interactive tables.';\n",
              "          element.innerHTML = '';\n",
              "          dataTable['output_type'] = 'display_data';\n",
              "          await google.colab.output.renderOutput(dataTable, element);\n",
              "          const docLink = document.createElement('div');\n",
              "          docLink.innerHTML = docLinkHtml;\n",
              "          element.appendChild(docLink);\n",
              "        }\n",
              "      </script>\n",
              "    </div>\n",
              "  </div>\n",
              "  "
            ],
            "text/plain": [
              "                            NAME                                    ID  TYPE  \\\n",
              "0                  default_py3.6  0062b8c9-8b7d-44a0-a9b9-46c416adcbd9  base   \n",
              "1        autoai-ts_rt23.1-py3.10  01ce9391-1a79-5a33-94fb-2e134337f314  base   \n",
              "2      kernel-spark3.2-scala2.12  020d69ce-7ac1-5e68-ac1a-31189867356a  base   \n",
              "3     pytorch-onnx_1.3-py3.7-edt  069ea134-3346-5748-b513-49120e15d288  base   \n",
              "4       tensorflow_rt23.1-py3.10  079a91e0-245f-5269-8926-3c20b28f37dc  base   \n",
              "5        scikit-learn_0.20-py3.6  09c5a1d0-9c1e-4473-a344-eb7b665ff687  base   \n",
              "6     spark-mllib_3.0-scala_2.12  09f4cff0-90a7-5899-b9ed-1ef348aebdee  base   \n",
              "7      pytorch-onnx_rt22.1-py3.9  0b848dd4-e681-5599-be41-b5f6fccc6471  base   \n",
              "8          ai-function_0.1-py3.6  0cdb0f1e-5376-4f4d-92dd-da3b69aa9bda  base   \n",
              "9                     shiny-r3.6  0e6e79df-875e-4f24-8ae9-62dcc2148306  base   \n",
              "10  tensorflow_2.4-py3.7-horovod  1092590a-307d-563d-9b62-4eb7d64b3f22  base   \n",
              "11             pytorch_1.1-py3.6  10ac12d6-6b30-4ccd-8392-3e922c096a92  base   \n",
              "12     tensorflow_1.15-py3.6-ddl  111e41b3-de2d-5422-a4d6-bf776828c4b7  base   \n",
              "13       autoai-kb_rt22.2-py3.10  125b6d9a-5b1f-5e8d-972a-b251688ccf40  base   \n",
              "14            runtime-22.1-py3.9  12b83a17-24d8-5082-900f-0ab31fbfd3cb  base   \n",
              "15       scikit-learn_0.22-py3.6  154010fa-5b3b-4ac1-82af-4d5ee5abbc85  base   \n",
              "16    pytorch-onnx_rt23.1-py3.10  195067e6-4c5e-5fab-8bd0-e7623a88b4d3  base   \n",
              "17                  default_r3.6  1b70aec3-ab34-4b87-8aa0-a4a3c8296a36  base   \n",
              "18        pytorch-onnx_1.3-py3.6  1bc6029a-cc97-56da-b8e0-39c3880dbbe7  base   \n",
              "19          kernel-spark3.3-r3.6  1c9e5454-f216-59dd-a20e-474a5cdf5988  base   \n",
              "20          tensorflow_2.1-py3.6  1eb25b84-d6ed-5dde-b6a5-3fbdf1665666  base   \n",
              "21               spark-mllib_3.2  20047f72-0a98-58c7-9ff5-a77b012eb8f5  base   \n",
              "22  tensorflow_2.4-py3.8-horovod  217c16f6-178f-56bf-824a-b19f20564c49  base   \n",
              "23       runtime-22.1-py3.9-cuda  26215f05-08c3-5a41-a1b0-da66306ce658  base   \n",
              "24                      do_py3.8  295addb5-9ef9-547e-9bf4-92ae3563e720  base   \n",
              "25           autoai-ts_3.8-py3.8  2aa0c932-798f-5ae9-abd6-15e0c2402fb5  base   \n",
              "26         tensorflow_1.15-py3.6  2b73a275-7cbf-420b-a912-eae7f436e0bc  base   \n",
              "27         kernel-spark3.3-py3.9  2b7961e2-e3b1-5a8c-a491-482c8368839a  base   \n",
              "28             pytorch_1.2-py3.6  2c8ef57d-2687-4b7d-acce-01f94976dac1  base   \n",
              "29               spark-mllib_2.3  2e51f700-bca0-4b0d-88dc-5c6791338875  base   \n",
              "30    pytorch-onnx_1.1-py3.6-edt  32983cea-3f32-4400-8965-dde874a8d67e  base   \n",
              "31          spark-mllib_3.0-py37  36507ebe-8770-55ba-ab2a-eafe787600e9  base   \n",
              "32               spark-mllib_2.4  390d21f8-e58b-4fac-9c55-d7ceda621326  base   \n",
              "33       autoai-ts_rt22.2-py3.10  396b2e83-0953-5b86-9a55-7ce1628a406f  base   \n",
              "34            xgboost_0.82-py3.6  39e31acd-5f30-41dc-ae44-60233c80306e  base   \n",
              "35    pytorch-onnx_1.2-py3.6-edt  40589d0e-7019-4e28-8daa-fb03b6f4fe12  base   \n",
              "36    pytorch-onnx_rt22.2-py3.10  40e73f55-783a-5535-b3fa-0c8b94291431  base   \n",
              "37               default_r36py38  41c247d3-45f8-5a71-b065-8580229facf0  base   \n",
              "38        autoai-ts_rt22.1-py3.9  4269d26e-07ba-5d40-8f66-2d495b0c71f7  base   \n",
              "39                autoai-obm_3.0  42b92e18-d9ab-567f-988a-4240ba1ed5f7  base   \n",
              "40                  pmml-3.0_4.3  493bcb95-16f1-5bc5-bee8-81b8af80e9c7  base   \n",
              "41         spark-mllib_2.4-r_3.6  49403dff-92e9-4c87-a3d7-a42d0021c095  base   \n",
              "42            xgboost_0.90-py3.6  4ff8d6c2-1343-4c18-85e1-689c965304d3  base   \n",
              "43        pytorch-onnx_1.1-py3.6  50f95b2a-bc16-43bb-bc94-b0bed208c60b  base   \n",
              "44           autoai-ts_3.9-py3.8  52c57136-80fa-572e-8728-a5e7cbb42cde  base   \n",
              "45    spark-mllib_2.4-scala_2.11  55a70f99-7320-4be5-9fb9-9edb5a443af5  base   \n",
              "46               spark-mllib_3.0  5c1b0ca2-4977-5c2e-9439-ffd44ea8ffe9  base   \n",
              "47                autoai-obm_2.0  5c2e37fa-80b8-5e77-840f-d912469614ee  base   \n",
              "48             spss-modeler_18.1  5c3cad7e-507f-4b2a-a9a3-ab53a21dee8b  base   \n",
              "49                    cuda-py3.8  5d3232bf-c86b-5df4-a2cd-7bb870a1cd4e  base   \n",
              "\n",
              "                 STATE                 REPLACEMENT  \n",
              "0          unsupported         runtime-22.2-py3.10  \n",
              "1         not_provided                              \n",
              "2         not_provided                              \n",
              "3         not_provided                              \n",
              "4         not_provided                              \n",
              "5          unsupported         runtime-22.2-py3.10  \n",
              "6          unsupported                              \n",
              "7   create-unsupported  pytorch-onnx_rt22.2-py3.10  \n",
              "8          unsupported         runtime-22.2-py3.10  \n",
              "9         not_provided                              \n",
              "10         unsupported    tensorflow_rt22.2-py3.10  \n",
              "11         unsupported                              \n",
              "12         unsupported                              \n",
              "13           supported                              \n",
              "14  create-unsupported         runtime-22.2-py3.10  \n",
              "15         unsupported         runtime-22.2-py3.10  \n",
              "16        not_provided                              \n",
              "17          deprecated                              \n",
              "18         unsupported         runtime-22.2-py3.10  \n",
              "19        not_provided                              \n",
              "20         unsupported         runtime-22.2-py3.10  \n",
              "21         unsupported             spark-mllib_3.3  \n",
              "22         unsupported    tensorflow_rt22.2-py3.10  \n",
              "23  create-unsupported    runtime-22.2-py3.10-cuda  \n",
              "24        not_provided                              \n",
              "25         unsupported     autoai-ts_rt22.2-py3.10  \n",
              "26         unsupported         runtime-22.2-py3.10  \n",
              "27        not_provided                              \n",
              "28         unsupported         runtime-22.2-py3.10  \n",
              "29  create-unsupported             spark-mllib_3.3  \n",
              "30         unsupported                              \n",
              "31         unsupported             spark-mllib_3.3  \n",
              "32         unsupported             spark-mllib_3.3  \n",
              "33           supported                              \n",
              "34         unsupported         runtime-22.2-py3.10  \n",
              "35         unsupported                              \n",
              "36           supported                              \n",
              "37        not_provided                              \n",
              "38  create-unsupported     autoai-ts_rt22.2-py3.10  \n",
              "39         unsupported              autoai-obm_3.2  \n",
              "40           supported                              \n",
              "41         unsupported             spark-mllib_3.3  \n",
              "42         unsupported         runtime-22.2-py3.10  \n",
              "43         unsupported         runtime-22.2-py3.10  \n",
              "44         unsupported     autoai-ts_rt22.2-py3.10  \n",
              "45         unsupported             spark-mllib_3.3  \n",
              "46         unsupported             spark-mllib_3.3  \n",
              "47         unsupported              autoai-obm_3.2  \n",
              "48           supported                              \n",
              "49        not_provided                              "
            ]
          },
          "execution_count": 31,
          "metadata": {},
          "output_type": "execute_result"
        }
      ],
      "source": [
        "client.software_specifications.list()"
      ]
    },
    {
      "cell_type": "code",
      "execution_count": null,
      "metadata": {
        "colab": {
          "base_uri": "https://localhost:8080/",
          "height": 36
        },
        "id": "RjwB8eXTbShp",
        "outputId": "c2c8a060-f9e6-4a0a-cc35-70371c601617"
      },
      "outputs": [
        {
          "data": {
            "application/vnd.google.colaboratory.intrinsic+json": {
              "type": "string"
            },
            "text/plain": [
              "'b56101f1-309d-549b-a849-eaa63f77b2fb'"
            ]
          },
          "execution_count": 32,
          "metadata": {},
          "output_type": "execute_result"
        }
      ],
      "source": [
        "software_space_uid = client.software_specifications.get_uid_by_name(\"runtime-22.2-py3.10\")\n",
        "software_space_uid"
      ]
    },
    {
      "cell_type": "code",
      "execution_count": null,
      "metadata": {
        "id": "v5aaT3QCbSng"
      },
      "outputs": [],
      "source": [
        "model_details = client.repository.store_model(model=\"ibm_weather-classification.tgz\", meta_props={\n",
        "    client.repository.ModelMetaNames.NAME:\"ibm_epoch\",\n",
        "    client.repository.ModelMetaNames.TYPE:\"tensorflow_2.9\",\n",
        "    client.repository.ModelMetaNames.SOFTWARE_SPEC_UID:software_space_uid\n",
        "})"
      ]
    },
    {
      "cell_type": "code",
      "execution_count": null,
      "metadata": {
        "colab": {
          "base_uri": "https://localhost:8080/"
        },
        "id": "GNJPdDaxcnan",
        "outputId": "ec6def1e-c6da-48c6-a358-d4d93e86c8e5"
      },
      "outputs": [
        {
          "data": {
            "text/plain": [
              "{'entity': {'hybrid_pipeline_software_specs': [],\n",
              "  'software_spec': {'id': 'b56101f1-309d-549b-a849-eaa63f77b2fb',\n",
              "   'name': 'runtime-22.2-py3.10'},\n",
              "  'type': 'tensorflow_2.9'},\n",
              " 'metadata': {'created_at': '2023-05-21T13:14:14.921Z',\n",
              "  'id': '1fb57362-434d-4c50-bfd7-89d9cf29a915',\n",
              "  'modified_at': '2023-05-21T13:14:19.935Z',\n",
              "  'name': 'ibm_epoch',\n",
              "  'owner': 'IBMid-6670012GRK',\n",
              "  'resource_key': '070d7834-c773-4bd4-bc2b-493d09abd659',\n",
              "  'space_id': '019888fb-7e45-4fba-90bc-1f86f5899d1d'},\n",
              " 'system': {'warnings': []}}"
            ]
          },
          "execution_count": 34,
          "metadata": {},
          "output_type": "execute_result"
        }
      ],
      "source": [
        "model_details"
      ]
    },
    {
      "cell_type": "code",
      "execution_count": null,
      "metadata": {
        "colab": {
          "base_uri": "https://localhost:8080/",
          "height": 36
        },
        "id": "_3bEDYNpcndk",
        "outputId": "7d1d3acc-2ae0-4898-f7f3-2e81f72db325"
      },
      "outputs": [
        {
          "data": {
            "application/vnd.google.colaboratory.intrinsic+json": {
              "type": "string"
            },
            "text/plain": [
              "'1fb57362-434d-4c50-bfd7-89d9cf29a915'"
            ]
          },
          "execution_count": 35,
          "metadata": {},
          "output_type": "execute_result"
        }
      ],
      "source": [
        "model_id = client.repository.get_model_id(model_details)\n",
        "model_id"
      ]
    },
    {
      "cell_type": "code",
      "execution_count": null,
      "metadata": {
        "colab": {
          "base_uri": "https://localhost:8080/",
          "height": 53
        },
        "id": "ETdDJSvAcnnC",
        "outputId": "26702e05-0041-43b3-ef96-957664a045d1"
      },
      "outputs": [
        {
          "name": "stdout",
          "output_type": "stream",
          "text": [
            "Successfully saved model content to file: 'cloud_weather-classification.tgz'\n"
          ]
        },
        {
          "data": {
            "application/vnd.google.colaboratory.intrinsic+json": {
              "type": "string"
            },
            "text/plain": [
              "'/content/cloud_weather-classification.tgz'"
            ]
          },
          "execution_count": 36,
          "metadata": {},
          "output_type": "execute_result"
        }
      ],
      "source": [
        "client.repository.download(model_id,'cloud_weather-classification.tgz')"
      ]
    }
  ],
  "metadata": {
    "colab": {
      "provenance": []
    },
    "kernelspec": {
      "display_name": "Python 3",
      "name": "python3"
    },
    "language_info": {
      "name": "python"
    }
  },
  "nbformat": 4,
  "nbformat_minor": 0
}
